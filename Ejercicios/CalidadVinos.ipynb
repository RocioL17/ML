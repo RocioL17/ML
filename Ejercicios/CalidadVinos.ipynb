{
  "cells": [
    {
      "cell_type": "markdown",
      "metadata": {
        "id": "Yk6ATArRNzcM"
      },
      "source": [
        "Dataset: \"Calidad del vino\"\n",
        "Este dataset contiene información sobre la calidad del vino, basada en características químicas como el pH, la acidez, el contenido de alcohol, etc."
      ]
    },
    {
      "cell_type": "code",
      "execution_count": 3,
      "metadata": {
        "colab": {
          "background_save": true,
          "base_uri": "https://localhost:8080/",
          "height": 1000,
          "referenced_widgets": [
            "204adb74ad9f4a23b4e29ec22366020a",
            "5544c59fe0184cf4a38b63021576cddb",
            "b2d9393edd724f10a73f1380d32eb67e",
            "6b29c831200b43d3922a5df555fa0cbc"
          ]
        },
        "id": "tNK9JouGPXKn",
        "outputId": "cb27aa61-7233-41d7-e155-b389a20cf28f"
      },
      "outputs": [
        {
          "name": "stdout",
          "output_type": "stream",
          "text": [
            "Primeros registros del dataset:\n",
            "   fixed acidity  volatile acidity  citric acid  residual sugar  chlorides  \\\n",
            "0            7.4              0.70         0.00             1.9      0.076   \n",
            "1            7.8              0.88         0.00             2.6      0.098   \n",
            "2            7.8              0.76         0.04             2.3      0.092   \n",
            "3           11.2              0.28         0.56             1.9      0.075   \n",
            "4            7.4              0.70         0.00             1.9      0.076   \n",
            "\n",
            "   free sulfur dioxide  total sulfur dioxide  density    pH  sulphates  \\\n",
            "0                 11.0                  34.0   0.9978  3.51       0.56   \n",
            "1                 25.0                  67.0   0.9968  3.20       0.68   \n",
            "2                 15.0                  54.0   0.9970  3.26       0.65   \n",
            "3                 17.0                  60.0   0.9980  3.16       0.58   \n",
            "4                 11.0                  34.0   0.9978  3.51       0.56   \n",
            "\n",
            "   alcohol  quality  \n",
            "0      9.4        5  \n",
            "1      9.8        5  \n",
            "2      9.8        5  \n",
            "3      9.8        6  \n",
            "4      9.4        5  \n",
            "\n",
            "Cantidad de registros: 1599\n",
            "\n",
            "Descripción estadística del dataset:\n",
            "       fixed acidity  volatile acidity  citric acid  residual sugar  \\\n",
            "count    1599.000000       1599.000000  1599.000000     1599.000000   \n",
            "mean        8.319637          0.527821     0.270976        2.538806   \n",
            "std         1.741096          0.179060     0.194801        1.409928   \n",
            "min         4.600000          0.120000     0.000000        0.900000   \n",
            "25%         7.100000          0.390000     0.090000        1.900000   \n",
            "50%         7.900000          0.520000     0.260000        2.200000   \n",
            "75%         9.200000          0.640000     0.420000        2.600000   \n",
            "max        15.900000          1.580000     1.000000       15.500000   \n",
            "\n",
            "         chlorides  free sulfur dioxide  total sulfur dioxide      density  \\\n",
            "count  1599.000000          1599.000000           1599.000000  1599.000000   \n",
            "mean      0.087467            15.874922             46.467792     0.996747   \n",
            "std       0.047065            10.460157             32.895324     0.001887   \n",
            "min       0.012000             1.000000              6.000000     0.990070   \n",
            "25%       0.070000             7.000000             22.000000     0.995600   \n",
            "50%       0.079000            14.000000             38.000000     0.996750   \n",
            "75%       0.090000            21.000000             62.000000     0.997835   \n",
            "max       0.611000            72.000000            289.000000     1.003690   \n",
            "\n",
            "                pH    sulphates      alcohol      quality  \n",
            "count  1599.000000  1599.000000  1599.000000  1599.000000  \n",
            "mean      3.311113     0.658149    10.422983     5.636023  \n",
            "std       0.154386     0.169507     1.065668     0.807569  \n",
            "min       2.740000     0.330000     8.400000     3.000000  \n",
            "25%       3.210000     0.550000     9.500000     5.000000  \n",
            "50%       3.310000     0.620000    10.200000     6.000000  \n",
            "75%       3.400000     0.730000    11.100000     6.000000  \n",
            "max       4.010000     2.000000    14.900000     8.000000  \n"
          ]
        },
        {
          "name": "stderr",
          "output_type": "stream",
          "text": [
            "100%|██████████| 12/12 [00:00<?, ?it/s]17 [00:00<00:00, 51.94it/s, Describe variable: quality] \n",
            "Summarize dataset: 100%|██████████| 165/165 [00:16<00:00, 10.29it/s, Completed]                                        \n",
            "Generate report structure: 100%|██████████| 1/1 [00:03<00:00,  3.37s/it]\n",
            "Render HTML: 100%|██████████| 1/1 [00:03<00:00,  3.35s/it]\n",
            "Export report to file: 100%|██████████| 1/1 [00:00<00:00, 23.33it/s]"
          ]
        },
        {
          "name": "stdout",
          "output_type": "stream",
          "text": [
            "Reporte guardado en: reportes\\vino_report_1.html\n",
            "\n",
            "Informe de análisis generado como 'vino_report.html'\n"
          ]
        },
        {
          "name": "stderr",
          "output_type": "stream",
          "text": [
            "\n"
          ]
        }
      ],
      "source": [
        "# Importar bibliotecas necesarias\n",
        "import numpy as np\n",
        "import pandas as pd\n",
        "from sklearn.model_selection import train_test_split\n",
        "from sklearn.ensemble import RandomForestClassifier\n",
        "from xgboost import XGBClassifier\n",
        "from sklearn.metrics import accuracy_score, classification_report, confusion_matrix\n",
        "import matplotlib.pyplot as plt\n",
        "import seaborn as sns\n",
        "# Install ydata-profiling if not already installed\n",
        "# !pip install -q ydata-profiling\n",
        "# Import the ProfileReport class\n",
        "from ydata_profiling import ProfileReport\n",
        "# Descargar el dataset\n",
        "url = \"https://archive.ics.uci.edu/ml/machine-learning-databases/wine-quality/winequality-red.csv\"\n",
        "\n",
        "#importar el correcto guardado del html\n",
        "from guardar import guardar_sin_sobrescribir\n",
        "\n",
        "# Cargar el dataset\n",
        "\n",
        "df_vino = pd.read_csv(url, sep=';')\n",
        "\n",
        "# Visualizar los primeros registros\n",
        "print(\"Primeros registros del dataset:\")\n",
        "print(df_vino.head())\n",
        "\n",
        "# Contar la cantidad de registros\n",
        "print(\"\\nCantidad de registros:\", len(df_vino))\n",
        "\n",
        "# Análisis descriptivo básico\n",
        "print(\"\\nDescripción estadística del dataset:\")\n",
        "print(df_vino.describe(include='all'))\n",
        "\n",
        "# Generar un informe de análisis con YData Profiling\n",
        "profile_vino = ProfileReport(df_vino, title=\"Análisis Descriptivo - Calidad del Vino\")\n",
        "# profile_vino.to_file(\"Reportes/vino_report.html\")\n",
        "guardar_sin_sobrescribir(profile_vino, 'vino_report') #sin sobreescribir el archivo\n",
        "print(\"\\nInforme de análisis generado como 'vino_report.html'\")"
      ]
    }
  ],
  "metadata": {
    "colab": {
      "provenance": []
    },
    "kernelspec": {
      "display_name": ".venv",
      "language": "python",
      "name": "python3"
    },
    "language_info": {
      "codemirror_mode": {
        "name": "ipython",
        "version": 3
      },
      "file_extension": ".py",
      "mimetype": "text/x-python",
      "name": "python",
      "nbconvert_exporter": "python",
      "pygments_lexer": "ipython3",
      "version": "3.12.10"
    },
    "widgets": {
      "application/vnd.jupyter.widget-state+json": {}
    }
  },
  "nbformat": 4,
  "nbformat_minor": 0
}
