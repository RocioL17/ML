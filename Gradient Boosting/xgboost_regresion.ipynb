{
 "cells": [
  {
   "cell_type": "markdown",
   "id": "5f56a194",
   "metadata": {},
   "source": [
    "Algoritmo XGBoost Regresión"
   ]
  },
  {
   "cell_type": "code",
   "execution_count": 1,
   "id": "d6c1b4a6",
   "metadata": {},
   "outputs": [
    {
     "name": "stdout",
     "output_type": "stream",
     "text": [
      "Mean Squared Error: 0.2118\n",
      "R² Score: 0.8386\n"
     ]
    }
   ],
   "source": [
    "import xgboost as xgb\n",
    "from sklearn.datasets import fetch_california_housing\n",
    "from sklearn.model_selection import train_test_split\n",
    "from sklearn.metrics import mean_squared_error, r2_score\n",
    "\n",
    "# Dataset de California Housing\n",
    "data = fetch_california_housing()\n",
    "X, y = data.data, data.target\n",
    "\n",
    "# División train/test\n",
    "X_train, X_test, y_train, y_test = train_test_split(X, y, test_size=0.3, random_state=42)\n",
    "\n",
    "# Modelo XGBoost\n",
    "reg = xgb.XGBRegressor(n_jobs=-1)\n",
    "reg.fit(X_train, y_train)\n",
    "\n",
    "# Predicción\n",
    "y_pred = reg.predict(X_test)\n",
    "\n",
    "# Evaluación\n",
    "mse = mean_squared_error(y_test, y_pred)\n",
    "r2 = r2_score(y_test, y_pred)\n",
    "\n",
    "print(f\"Mean Squared Error: {mse:.4f}\")\n",
    "print(f\"R² Score: {r2:.4f}\")"
   ]
  },
  {
   "cell_type": "markdown",
   "id": "e0eaf9a3",
   "metadata": {},
   "source": [
    "La regresión es una técnica para predecir un valor continuo."
   ]
  },
  {
   "cell_type": "markdown",
   "id": "56fa65b7",
   "metadata": {},
   "source": [
    "Se aprende una función f(x) que nos diga el valor esperado de y."
   ]
  }
 ],
 "metadata": {
  "kernelspec": {
   "display_name": ".venv",
   "language": "python",
   "name": "python3"
  },
  "language_info": {
   "codemirror_mode": {
    "name": "ipython",
    "version": 3
   },
   "file_extension": ".py",
   "mimetype": "text/x-python",
   "name": "python",
   "nbconvert_exporter": "python",
   "pygments_lexer": "ipython3",
   "version": "3.12.10"
  }
 },
 "nbformat": 4,
 "nbformat_minor": 5
}
